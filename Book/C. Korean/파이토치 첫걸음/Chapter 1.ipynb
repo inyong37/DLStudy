{
 "cells": [
  {
   "cell_type": "code",
   "execution_count": 1,
   "metadata": {},
   "outputs": [
    {
     "data": {
      "text/plain": [
       "torch.Size([100, 10])"
      ]
     },
     "execution_count": 1,
     "metadata": {},
     "output_type": "execute_result"
    }
   ],
   "source": [
    "# -*- coding: utf-8 -*-\n",
    "# Modified Author: Inyong Hwang (inyong1020@gmail.com)\n",
    "# Date: 2019-08-04-Sun\n",
    "# 파이토치 첫걸음 Chapter 1. 파이토치의 기본\n",
    "\n",
    "import numpy as np\n",
    "import torch\n",
    "\n",
    "t = torch.tensor([[1, 2], [3, 4.]])\n",
    "\n",
    "t = torch.tensor([[1, 2], [3, 4.]], device=\"cuda:0\")\n",
    "\n",
    "t = torch.tensor([[1, 2], [3, 4.]], dtype=torch.float64)\n",
    "\n",
    "\n",
    "t = torch.arange(0, 10)\n",
    "\n",
    "t = torch.zeros(100, 10).to(\"cuda:0\")\n",
    "\n",
    "t = torch.randn(100, 10)\n",
    "\n",
    "t.size()"
   ]
  },
  {
   "cell_type": "code",
   "execution_count": 2,
   "metadata": {},
   "outputs": [],
   "source": [
    "t = torch.tensor([[1, 2], [3, 4.]])\n",
    "x = t.numpy()\n",
    "\n",
    "t = torch.tensor([[1, 2], [3, 4.]], device=\"cuda:0\")\n",
    "x = t.to(\"cpu\").numpy()"
   ]
  },
  {
   "cell_type": "code",
   "execution_count": 3,
   "metadata": {},
   "outputs": [],
   "source": [
    "t = torch.tensor([[1, 2, 3], [4, 5, 6.]])\n",
    "\n",
    "t[0, 2]\n",
    "\n",
    "t[:, :2]\n",
    "\n",
    "t[:, [1, 2]]\n",
    "\n",
    "t[t > 3]\n",
    "\n",
    "t[0, 1] = 100\n",
    "\n",
    "t[:, 1] = 200\n",
    "\n",
    "t[t > 10] = 20"
   ]
  },
  {
   "cell_type": "code",
   "execution_count": 4,
   "metadata": {},
   "outputs": [],
   "source": [
    "v = torch.tensor([1, 2, 3.])\n",
    "w = torch.tensor([0, 10, 20.])\n",
    "m = torch.tensor([[0, 1, 2], [100, 200, 300.]])\n",
    "\n",
    "v2 = v + 10\n",
    "v2 = v ** 2\n",
    "z = v - w\n",
    "u = 2 * v - 2 / 10 + 6.0\n",
    "\n",
    "m2 = m * 2.0\n",
    "m3 = m + v\n",
    "m4 = m + m"
   ]
  },
  {
   "cell_type": "code",
   "execution_count": 5,
   "metadata": {},
   "outputs": [],
   "source": [
    "x = torch.randn(100, 10)\n",
    "\n",
    "y = x * 2 + torch.abs(x)\n",
    "\n",
    "m = torch.mean(x)\n",
    "\n",
    "m = x.mean()\n",
    "\n",
    "m_value = m.item()\n",
    "\n",
    "m2 = x.mean(0)"
   ]
  },
  {
   "cell_type": "code",
   "execution_count": 6,
   "metadata": {},
   "outputs": [],
   "source": [
    "x1 = torch.tensor([[1, 2], [3, 4.]])\n",
    "x2 = torch.tensor([[10, 20, 30], [40, 50, 60.]])\n",
    "\n",
    "x1.view(4, 1)\n",
    "x1.view(1, -1)\n",
    "\n",
    "x2.t()\n",
    "\n",
    "torch.cat([x1, x2], dim=1)\n",
    "\n",
    "hwc_img_data = torch.rand(100, 64, 32, 3)\n",
    "chw_img_data = hwc_img_data.transpose(1, 2).transpose(1, 3)"
   ]
  },
  {
   "cell_type": "code",
   "execution_count": 7,
   "metadata": {},
   "outputs": [],
   "source": [
    "m = torch.randn(100, 10)\n",
    "v = torch.randn(10)\n",
    "\n",
    "d = torch.dot(v, v)\n",
    "\n",
    "v2 = torch.mv(m, v)\n",
    "\n",
    "m2 = torch.mm(m.t(), m)\n",
    "\n",
    "u, s, v = torch.svd(m)"
   ]
  },
  {
   "cell_type": "code",
   "execution_count": 8,
   "metadata": {},
   "outputs": [
    {
     "data": {
      "text/plain": [
       "tensor([0, 0, 0], dtype=torch.uint8)"
      ]
     },
     "execution_count": 8,
     "metadata": {},
     "output_type": "execute_result"
    }
   ],
   "source": [
    "x = torch.randn(100, 3)\n",
    "a = torch.tensor([1, 2, 3.], requires_grad=True)\n",
    "\n",
    "y = torch.mv(x, a)\n",
    "o = y.sum()\n",
    "\n",
    "o.backward()\n",
    "\n",
    "a.grad != x.sum(0)"
   ]
  },
  {
   "cell_type": "code",
   "execution_count": 9,
   "metadata": {},
   "outputs": [
    {
     "data": {
      "text/plain": [
       "True"
      ]
     },
     "execution_count": 9,
     "metadata": {},
     "output_type": "execute_result"
    }
   ],
   "source": [
    "x.grad is None"
   ]
  },
  {
   "cell_type": "code",
   "execution_count": null,
   "metadata": {},
   "outputs": [],
   "source": []
  }
 ],
 "metadata": {
  "kernelspec": {
   "display_name": "Python 3",
   "language": "python",
   "name": "python3"
  },
  "language_info": {
   "codemirror_mode": {
    "name": "ipython",
    "version": 3
   },
   "file_extension": ".py",
   "mimetype": "text/x-python",
   "name": "python",
   "nbconvert_exporter": "python",
   "pygments_lexer": "ipython3",
   "version": "3.6.7"
  }
 },
 "nbformat": 4,
 "nbformat_minor": 2
}
