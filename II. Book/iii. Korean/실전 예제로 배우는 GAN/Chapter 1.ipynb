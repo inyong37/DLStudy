# -*- coding: utf-8 -*-
# Modified Author: Inyong Hwang (inyong1020@gmail.com)
# Date: 2019-08-22-Thu
# 실전 예제로 배우는 GAN
# Chapter 1. 생성적 적대 신경망이란?


class Generator:

    def __init__(self):
        self.initVarialbe = 1
       
    def lossFunction(self):
        
        return
    
    def buildModel(self):
        
        return
    
    def trainModel(self, inputX, inputY):
        
        return


class Discriminator:
    
    def __init__(self):
        self.initVariable = 1
   
    def lossFunction(self):
        
        return
    
    def buildModel(self):
        
        return
    
    def trainModel(self, inputX, inputY):
        
        return


class Loss:
    
    def __init__(self):
        self.initVariable = 1
    
    def lossBaseFunction1(self):
        
        return
    
    def lossBasFunction2(self):
        
        return
    
    def lossBaseFunction3(self):
        
        return
